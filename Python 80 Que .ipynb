{
 "cells": [
  {
   "cell_type": "markdown",
   "id": "8b2074a2",
   "metadata": {},
   "source": [
    "# Python Practice Problems"
   ]
  },
  {
   "cell_type": "markdown",
   "id": "dcb62081",
   "metadata": {},
   "source": [
    "1. User will input (3ages).Find the oldest one."
   ]
  },
  {
   "cell_type": "code",
   "execution_count": 1,
   "id": "7f883293",
   "metadata": {},
   "outputs": [
    {
     "name": "stdout",
     "output_type": "stream",
     "text": [
      "enter a number: 22\n",
      "enter a number: 21\n",
      "enter a number: 44\n",
      "44\n"
     ]
    }
   ],
   "source": [
    "a=int(input(\"enter a number: \"))\n",
    "b=int(input(\"enter a number: \"))\n",
    "c=int(input(\"enter a number: \"))\n",
    "\n",
    "max=a\n",
    "if max < b:\n",
    "    max = b\n",
    "if max < c:\n",
    "    max = c\n",
    "print(max)"
   ]
  },
  {
   "cell_type": "markdown",
   "id": "5b740dc1",
   "metadata": {},
   "source": [
    "2. Write a program that will convert celsius value to fahrenheit\n"
   ]
  },
  {
   "cell_type": "code",
   "execution_count": 2,
   "id": "38380de8",
   "metadata": {},
   "outputs": [
    {
     "name": "stdout",
     "output_type": "stream",
     "text": [
      "Enter a temperature:- 33\n",
      "91.4\n"
     ]
    }
   ],
   "source": [
    "temp = float(input(\"Enter a temperature:- \"))\n",
    "\n",
    "fahrenheit = (temp * 1.8) + 32\n",
    "\n",
    "print(fahrenheit)"
   ]
  },
  {
   "cell_type": "markdown",
   "id": "0db965e6",
   "metadata": {},
   "source": [
    "3. User will input (2numbers).Write a program to swap the numbers."
   ]
  },
  {
   "cell_type": "code",
   "execution_count": 3,
   "id": "9038127e",
   "metadata": {},
   "outputs": [
    {
     "name": "stdout",
     "output_type": "stream",
     "text": [
      "Enter a number :- 2\n",
      "Enter a number :- 4\n",
      "4\n",
      "2\n"
     ]
    }
   ],
   "source": [
    "a = int(input(\"Enter a number :- \"))\n",
    "b = int(input(\"Enter a number :- \"))\n",
    "\n",
    "var = a         # ek variable me store kiya and then a will be empty\n",
    "a = b\n",
    "b = var\n",
    "print(a)\n",
    "print(b)"
   ]
  },
  {
   "cell_type": "markdown",
   "id": "7c865616",
   "metadata": {},
   "source": [
    "4. Write a program that will give you the sum of 3 digits\n"
   ]
  },
  {
   "cell_type": "code",
   "execution_count": 4,
   "id": "0da20d8e",
   "metadata": {},
   "outputs": [
    {
     "name": "stdout",
     "output_type": "stream",
     "text": [
      "Enter a three digit number :- 234\n",
      "9\n"
     ]
    }
   ],
   "source": [
    "num = int(input(\"Enter a three digit number :- \"))\n",
    "\n",
    "a = num % 10  # (345 % 10 = 5)\n",
    "num = num // 10 #( 345 // 10 = 34)\n",
    "b = num % 10  # (34 % 10 = 4)\n",
    "c = num // 10  # (34 // 10 = 3)\n",
    "\n",
    "rev = (a + b + c)\n",
    "print(rev)"
   ]
  },
  {
   "cell_type": "code",
   "execution_count": 5,
   "id": "c9c64f5e",
   "metadata": {},
   "outputs": [
    {
     "name": "stdout",
     "output_type": "stream",
     "text": [
      "Enter a five digit number :-  34567\n",
      "25\n"
     ]
    }
   ],
   "source": [
    "# Write a program that will give you the sum of 5 digits\n",
    "num = int(input(\"Enter a five digit number :-  \"))\n",
    "\n",
    "d = num % 10  # 34567\n",
    "num = num //10 # 3456\n",
    "f = num % 10 # 6\n",
    "num = num //10 #345\n",
    "j = num % 10 # 5\n",
    "num = num //10 # 34\n",
    "s = num %10 # 4\n",
    "z = num//10\n",
    "rev = (d+f+j+s+z)\n",
    "print(rev)"
   ]
  },
  {
   "cell_type": "markdown",
   "id": "d4b52ef3",
   "metadata": {},
   "source": [
    "5. Write a program that will reverse a four digit number.Also it checks\n",
    "whether the reverse is true.\n"
   ]
  },
  {
   "cell_type": "code",
   "execution_count": 6,
   "id": "adf837be",
   "metadata": {},
   "outputs": [
    {
     "name": "stdout",
     "output_type": "stream",
     "text": [
      "Enter a four digit number :- 3456\n",
      "6543\n",
      "False\n"
     ]
    }
   ],
   "source": [
    "# User Input\n",
    "n = int(input(\"Enter a four digit number :- \"))\n",
    "\n",
    "# digits\n",
    "a = n % 10\n",
    "n = n // 10\n",
    "\n",
    "b = n % 10\n",
    "n = n // 10\n",
    "\n",
    "c = n % 10\n",
    "d = n // 10\n",
    "\n",
    "# formula \n",
    "\n",
    "rev = 1000*a + 100*b + 10*c + d\n",
    "print(rev)\n",
    "\n",
    "#check\n",
    "if rev==n:\n",
    "    print(True)\n",
    "    \n",
    "else:\n",
    "    print(False)\n"
   ]
  },
  {
   "cell_type": "markdown",
   "id": "e648313c",
   "metadata": {},
   "source": [
    "6. Write a program that will tell whether the number entered by the\n",
    "user is odd or even."
   ]
  },
  {
   "cell_type": "code",
   "execution_count": 7,
   "id": "17398263",
   "metadata": {},
   "outputs": [
    {
     "name": "stdout",
     "output_type": "stream",
     "text": [
      "Enter a number:- 5\n",
      "Odd\n"
     ]
    }
   ],
   "source": [
    "n = int(input(\"Enter a number:- \"))\n",
    "\n",
    "if n%2==0:\n",
    "    print(\"Even\")\n",
    "else:\n",
    "    print(\"Odd\")\n"
   ]
  },
  {
   "cell_type": "markdown",
   "id": "0973906c",
   "metadata": {},
   "source": [
    "7. Write a program that will tell whether the given year is a leap year\n",
    "or not.\n"
   ]
  },
  {
   "cell_type": "code",
   "execution_count": 8,
   "id": "d2f6eb40",
   "metadata": {},
   "outputs": [
    {
     "name": "stdout",
     "output_type": "stream",
     "text": [
      "Enter a number:- 2018\n",
      "Not Leap Year\n"
     ]
    }
   ],
   "source": [
    "n = int(input(\"Enter a number:- \"))\n",
    "\n",
    "if n%4==0 or (n%400==0 and n%100!=0):\n",
    "    print(\"Leap year\")\n",
    "    \n",
    "else:\n",
    "    print(\"Not Leap Year\")"
   ]
  },
  {
   "cell_type": "markdown",
   "id": "fdc38ea4",
   "metadata": {},
   "source": [
    "8. Write a program to find the euclidean distance between two\n",
    "coordinates."
   ]
  },
  {
   "cell_type": "code",
   "execution_count": 9,
   "id": "d4ec1215",
   "metadata": {},
   "outputs": [
    {
     "name": "stdout",
     "output_type": "stream",
     "text": [
      "Enter a x1 of x coordinate: -3\n",
      "Enter a y1 of x coordinate: -4\n",
      "Enter a x1 of y coordinate: -5\n",
      "Enter a y2 of y coordinate: -5\n",
      "2.23606797749979\n"
     ]
    }
   ],
   "source": [
    "x_1 = float(input(\"Enter a x1 of x coordinate: -\"))\n",
    "y_1 = float(input(\"Enter a y1 of x coordinate: -\"))\n",
    "x_2 = float(input(\"Enter a x1 of y coordinate: -\"))\n",
    "y_2 = float(input(\"Enter a y2 of y coordinate: -\"))\n",
    "\n",
    "distance = ((x_2 - x_1)**2 + (y_2 - y_1)**2)**0.5\n",
    "\n",
    "print(distance)"
   ]
  },
  {
   "cell_type": "markdown",
   "id": "8f0a5066",
   "metadata": {},
   "source": [
    "9. Write a program that take a user inputr of three angles and will\n",
    "find out whether it can form a triangle or not.\n"
   ]
  },
  {
   "cell_type": "code",
   "execution_count": 10,
   "id": "d5fe729b",
   "metadata": {},
   "outputs": [
    {
     "name": "stdout",
     "output_type": "stream",
     "text": [
      "Enter a first angle :- 44\n",
      "Enter a second angle :- 55\n",
      "Enter a third angle :- 66\n",
      "Not a Triangle\n"
     ]
    }
   ],
   "source": [
    "a = int(input(\"Enter a first angle :- \"))\n",
    "b = int(input(\"Enter a second angle :- \"))\n",
    "c = int(input(\"Enter a third angle :- \"))\n",
    "\n",
    "if (a+b+c)==180 and a!=0 and b!=0 and c!=0:\n",
    "    print(\"Triangle\")\n",
    "    \n",
    "else:\n",
    "    print(\"Not a Triangle\")"
   ]
  },
  {
   "cell_type": "markdown",
   "id": "999f6c9c",
   "metadata": {},
   "source": [
    "10. Write a program that will take user input of cost price and selling\n",
    "price and determines whether its a loss or a profit"
   ]
  },
  {
   "cell_type": "code",
   "execution_count": 11,
   "id": "c7e4564a",
   "metadata": {},
   "outputs": [
    {
     "name": "stdout",
     "output_type": "stream",
     "text": [
      "Enter your cost price :- 44\n",
      "Enter your selling price:- 33\n",
      "Loss 11\n"
     ]
    }
   ],
   "source": [
    "cp = int(input(\"Enter your cost price :- \"))\n",
    "sp = int(input(\"Enter your selling price:- \"))\n",
    "\n",
    "if cp < sp :\n",
    "    amount = sp - cp\n",
    "    print(\"Profit\",amount)\n",
    "    \n",
    "else:\n",
    "    amount = cp - sp\n",
    "    print(\"Loss\", amount)"
   ]
  },
  {
   "cell_type": "markdown",
   "id": "945639ef",
   "metadata": {},
   "source": [
    "11. Write a program to find the simple interest when the value of\n",
    "   principle,rate of interest and time period is given."
   ]
  },
  {
   "cell_type": "code",
   "execution_count": 12,
   "id": "bff71f8d",
   "metadata": {},
   "outputs": [
    {
     "name": "stdout",
     "output_type": "stream",
     "text": [
      "Enter your principle : -33\n",
      "Enter your rate of interest :- 44\n",
      "Enter your time period in year :- 2022\n",
      "Your simple interest is 29359.44\n",
      "Your amount is  29392.44\n"
     ]
    }
   ],
   "source": [
    "p = int(input(\"Enter your principle : -\"))\n",
    "r = int(input(\"Enter your rate of interest :- \"))\n",
    "t = int(input(\"Enter your time period in year :- \"))\n",
    "\n",
    "si = (p*r*t)/100\n",
    "print(\"Your simple interest is\", si)\n",
    "\n",
    "a = p + si\n",
    "print(\"Your amount is \", a)"
   ]
  },
  {
   "cell_type": "markdown",
   "id": "8d425161",
   "metadata": {},
   "source": [
    "12. Write a program to find the volume of the cylinder. Also find the\n",
    "cost when ,when the cost of 1litre milk is 40Rs.\n"
   ]
  },
  {
   "cell_type": "code",
   "execution_count": 13,
   "id": "88920f0b",
   "metadata": {},
   "outputs": [
    {
     "name": "stdout",
     "output_type": "stream",
     "text": [
      "Enter a radius :-3\n",
      "Enter a height :-4\n",
      "Your valume is 113.04\n",
      "Your cost is: Rs 4.5216\n"
     ]
    }
   ],
   "source": [
    "r = float(input(\"Enter a radius :-\"))\n",
    "h = float(input(\"Enter a height :-\"))\n",
    "\n",
    "v = 3.14*(r**2)*h\n",
    "print(\"Your valume is\", v)\n",
    "\n",
    "cost = v/1000 * 40\n",
    "print(\"Your cost is:\", \"Rs\", cost)"
   ]
  },
  {
   "cell_type": "markdown",
   "id": "38d0163b",
   "metadata": {},
   "source": [
    "13. Write a program that will tell whether the given number is divisible\n",
    "by 3 & 6.\n"
   ]
  },
  {
   "cell_type": "code",
   "execution_count": 14,
   "id": "0e5df358",
   "metadata": {},
   "outputs": [
    {
     "name": "stdout",
     "output_type": "stream",
     "text": [
      "Enter a number :-4\n",
      "4 is divisible by 3 & 6\n"
     ]
    }
   ],
   "source": [
    "n= int(input(\"Enter a number :-\"))\n",
    "\n",
    "if n%3==0 and n%6==0:\n",
    "    print(n, \"is divisible by 3 & 6\")\n",
    "else:\n",
    "    print(n,\"is divisible by 3 & 6\")"
   ]
  },
  {
   "cell_type": "markdown",
   "id": "9bce0a4b",
   "metadata": {},
   "source": [
    "14. Write a program that will determine weather when the value of\n",
    "temperature and humidity is provided by the user.\n",
    "TEMPERATURE(C) HUMIDITY(%) WEAT\n",
    "\n",
    "#>= 30 >=90 Hot and Humid\n",
    "\n",
    "#>= 30 < 90 Hot\n",
    "\n",
    "#<30 >= 90 Cool and Humid\n",
    "\n",
    "#<30 <90 Cool\n"
   ]
  },
  {
   "cell_type": "code",
   "execution_count": 15,
   "id": "1aec5f4f",
   "metadata": {},
   "outputs": [
    {
     "name": "stdout",
     "output_type": "stream",
     "text": [
      "Enter your temperature :- 33\n",
      "Enter your humidity :- 44\n",
      "Hot\n"
     ]
    }
   ],
   "source": [
    "temp = int(input(\"Enter your temperature :- \"))\n",
    "humid = int(input(\"Enter your humidity :- \"))\n",
    "\n",
    "if temp>=30 and humid>=90:\n",
    "    print(\"Hot and Humid\")\n",
    "    \n",
    "elif temp>=30 and humid<90:\n",
    "    print(\"Hot\")\n",
    "    \n",
    "elif temp<30 and humid>=90:\n",
    "    print(\"Cool and Humid\")\n",
    "    \n",
    "else :\n",
    "    print(\"Cool\")\n",
    "    \n",
    "\n"
   ]
  },
  {
   "cell_type": "markdown",
   "id": "15273f51",
   "metadata": {},
   "source": [
    "15. Write a program that will take three digits from the user and add\n",
    "the square of each digit.\n"
   ]
  },
  {
   "cell_type": "code",
   "execution_count": 16,
   "id": "83ef184f",
   "metadata": {},
   "outputs": [
    {
     "name": "stdout",
     "output_type": "stream",
     "text": [
      "Enter a three digit number :- 345\n",
      "Required Number is  50\n"
     ]
    }
   ],
   "source": [
    "n = int(input(\"Enter a three digit number :- \"))\n",
    "\n",
    "a = n % 10 \n",
    "n = n//10 \n",
    "\n",
    "b = n%10 \n",
    "n = n//10 \n",
    "\n",
    "c = n\n",
    "\n",
    "add = (a**2 + b**2 +c**2)\n",
    "print(\"Required Number is \", add)\n"
   ]
  },
  {
   "cell_type": "markdown",
   "id": "eca94c44",
   "metadata": {},
   "source": [
    "16. Write a program that will check whether the number is armstrong\n",
    "number or not."
   ]
  },
  {
   "cell_type": "code",
   "execution_count": 17,
   "id": "a8f9b4c0",
   "metadata": {},
   "outputs": [
    {
     "name": "stdout",
     "output_type": "stream",
     "text": [
      "Enter a number :- 345\n",
      "Not armstrong number\n"
     ]
    }
   ],
   "source": [
    "n = int(input(\"Enter a number :- \"))    # 153 is armstrong number\n",
    "n1=n\n",
    "tot=0\n",
    "d = len(str(n))\n",
    "while(n!=0):\n",
    "    rem=n%10\n",
    "    tot=(rem**d)+tot\n",
    "    n=n//10\n",
    "if(n1==tot):\n",
    "    print(\"Armstrong number\")\n",
    "    \n",
    "else:\n",
    "    print(\"Not armstrong number\")"
   ]
  },
  {
   "cell_type": "code",
   "execution_count": 18,
   "id": "54729896",
   "metadata": {},
   "outputs": [
    {
     "name": "stdout",
     "output_type": "stream",
     "text": [
      "Enter a number :- 234\n",
      "Not arm\n"
     ]
    }
   ],
   "source": [
    "# simple way\n",
    "user_input = int(input(\"Enter a number :- \"))\n",
    "num = user_input # 234\n",
    "\n",
    "a = num%10 # 4\n",
    "num = num//10 # 23\n",
    "b = num%10 #3\n",
    "num= num//10# 2\n",
    "c = num\n",
    "add = (a**3)+(b**3)+(c**3)\n",
    "if add==user_input:\n",
    "    print(\"Armstrong\")\n",
    "else:\n",
    "    print(\"Not arm\")"
   ]
  },
  {
   "cell_type": "markdown",
   "id": "4eaa7b5e",
   "metadata": {},
   "source": [
    "17. Write a program that will take user input of (4 digits number) and\n",
    "check whether the number is narcissist number or not"
   ]
  },
  {
   "cell_type": "code",
   "execution_count": 19,
   "id": "4c8aacc5",
   "metadata": {},
   "outputs": [
    {
     "name": "stdout",
     "output_type": "stream",
     "text": [
      "Enter a four digit number :- 7890\n",
      "Not \n"
     ]
    }
   ],
   "source": [
    "user_input = int(input(\"Enter a four digit number :- \")) # 1234 # 8208 is narcissist\n",
    "\n",
    "num = user_input\n",
    "\n",
    "a = num%10 #4\n",
    "num = num//10 #123\n",
    "b = num%10 # 3\n",
    "num = num//10 # 12\n",
    "c = num%10 # 2\n",
    "num= num//10 # 1\n",
    "d = num\n",
    "\n",
    "add = (a**4)+(b**4)+(c**4)+(d**4)\n",
    "\n",
    "if add == user_input:\n",
    "    print(\"Narcissist number\")\n",
    "    \n",
    "else:\n",
    "    print(\"Not \")\n"
   ]
  },
  {
   "cell_type": "markdown",
   "id": "ecc2c03c",
   "metadata": {},
   "source": [
    "18. Write a program that will give you the in hand salary after\n",
    "deduction of HRA(10%),DA(5%),PF(3%), and tax(if salary is between\n",
    "5-10 lakh–10%),(11-20lakh–20%),(20< _ – 30%)(0-1lakh print k)."
   ]
  },
  {
   "cell_type": "code",
   "execution_count": 20,
   "id": "55704aab",
   "metadata": {},
   "outputs": [
    {
     "name": "stdout",
     "output_type": "stream",
     "text": [
      "Enter your annual salary:- 22000\n",
      "After salary reduction  15400.0\n",
      "In hand salary is 1052.3333333333333\n",
      "1.0523333333333333 k\n"
     ]
    }
   ],
   "source": [
    "user_input = int(input(\"Enter your annual salary:- \"))\n",
    "\n",
    "if user_input > 500000 and user_input < 1000000:\n",
    "    tax = (10/100)*user_input\n",
    "    temp_salary = user_input - tax \n",
    "elif user_input > 1000000 and user_input < 2000000:\n",
    "    tax = (20/100)*user_input\n",
    "    temp_salary = user_input - tax \n",
    "else:\n",
    "    tax = (30/100)*user_input\n",
    "    temp_salary = user_input - tax \n",
    "    \n",
    "print(\"After salary reduction \", temp_salary)\n",
    "\n",
    "hra = (10/100)*temp_salary\n",
    "da = (5/100)*temp_salary\n",
    "pf = (3/100)*temp_salary\n",
    "\n",
    "in_handsalary = (temp_salary - hra - da - pf)/12\n",
    "print(\"In hand salary is\", in_handsalary)\n",
    "\n",
    "\n",
    "if in_handsalary <= 999:\n",
    "    print(in_handsalary)\n",
    "    \n",
    "elif in_handsalary >= 1000 and in_handsalary <= 9999:\n",
    "    print(in_handsalary/1000, 'k')\n",
    "    \n",
    "elif in_handsalary >= 100000 and in_handsalary <= 9999999:\n",
    "    print(in_handsalary/1000000,'l')\n",
    "    \n",
    "else:\n",
    "    print(in_handsalary/10000000,'Cr')\n"
   ]
  },
  {
   "cell_type": "markdown",
   "id": "15e2baad",
   "metadata": {},
   "source": [
    "19. Write a menu driven program - 1.cm to ft 2.kl to miles 3.usd to inr4.exit\n"
   ]
  },
  {
   "cell_type": "code",
   "execution_count": 21,
   "id": "dedf0cdc",
   "metadata": {},
   "outputs": [
    {
     "name": "stdout",
     "output_type": "stream",
     "text": [
      "\n",
      "Hi! Welcome to my page\n",
      "what would you like bto do?\n",
      "\n",
      "1. Convert cm to inches\n",
      "2. Convert km to miles\n",
      "3. Convert usd to inr\n",
      "4. Exit\n",
      "33\n",
      "Exit\n"
     ]
    }
   ],
   "source": [
    "user_input =  input('''\n",
    "Hi! Welcome to my page\n",
    "what would you like bto do?\n",
    "\n",
    "1. Convert cm to inches\n",
    "2. Convert km to miles\n",
    "3. Convert usd to inr\n",
    "4. Exit\n",
    "''')\n",
    "if user_input == '1':\n",
    "    cm = float(input(\"Enter value in cm :-\"))\n",
    "    inch = cm * 0.394\n",
    "    print('Your value in inch is', inch)\n",
    "    \n",
    "elif user_input =='2':\n",
    "    km = float(input(\"Enter value in km:-\"))\n",
    "    miles = km * 0.621\n",
    "    print(\"Your value in miles is\", miles)\n",
    "    \n",
    "elif user_input =='3':\n",
    "    usd = float(input(\"Enter a value in usd:- \"))\n",
    "    inr = usd * 80\n",
    "    print(\"Your value in inr is \", inr)\n",
    "    \n",
    "else:\n",
    "    print(\"Exit\")"
   ]
  },
  {
   "cell_type": "markdown",
   "id": "62edb6e2",
   "metadata": {},
   "source": [
    "20. Write a program that will tell the number of dogs and chicken\n",
    "are there when the user will provide the value of total heads and\n",
    "legs.\n"
   ]
  },
  {
   "cell_type": "code",
   "execution_count": null,
   "id": "6da1fed3",
   "metadata": {},
   "outputs": [],
   "source": []
  },
  {
   "cell_type": "markdown",
   "id": "7c2ac9d7",
   "metadata": {},
   "source": [
    "21. Write a program that will swap numbers"
   ]
  },
  {
   "cell_type": "code",
   "execution_count": 22,
   "id": "46453316",
   "metadata": {},
   "outputs": [
    {
     "name": "stdout",
     "output_type": "stream",
     "text": [
      "Enter a number:- 22\n",
      "Enter a number:- 25\n",
      "After Swapping: x = 25  y = 22\n"
     ]
    }
   ],
   "source": [
    "x = int(input(\"Enter a number:- \"))\n",
    "y = int(input(\"Enter a number:- \"))\n",
    "\n",
    "# Code to swap 'x' and 'y'\n",
    "\n",
    "# x now becomes 15\n",
    "x = x + y\n",
    "\n",
    "# y becomes 10\n",
    "y = x - y\n",
    "\n",
    "# x becomes 5\n",
    "x = x - y\n",
    "print(\"After Swapping: x =\", x, \" y =\", y)\n",
    "\n",
    "# This code is contributed\n"
   ]
  },
  {
   "cell_type": "markdown",
   "id": "83e53779",
   "metadata": {},
   "source": [
    "22.Write a program to find the sum of first n numbers, where n will be\n",
    "provided by the user. Eg if the user provides n=10 the output should be\n",
    "55."
   ]
  },
  {
   "cell_type": "code",
   "execution_count": 23,
   "id": "3922629a",
   "metadata": {},
   "outputs": [
    {
     "name": "stdout",
     "output_type": "stream",
     "text": [
      "Enter a number:-3\n",
      "6.0\n"
     ]
    }
   ],
   "source": [
    "n = int(input(\"Enter a number:-\"))\n",
    "\n",
    "s = n * (n+1)/2\n",
    "print(s)"
   ]
  },
  {
   "cell_type": "markdown",
   "id": "3830e08a",
   "metadata": {},
   "source": [
    "23.Write a program that can multiply 2 numbers provided by the user\n",
    "without using the * operator\n"
   ]
  },
  {
   "cell_type": "code",
   "execution_count": 24,
   "id": "c8448630",
   "metadata": {},
   "outputs": [
    {
     "name": "stdout",
     "output_type": "stream",
     "text": [
      "Enter a number: -4\n",
      "Enter a number: -5\n",
      "Your result is : 20\n"
     ]
    }
   ],
   "source": [
    "first_num = int(input(\"Enter a number: -\"))\n",
    "second_num = int(input(\"Enter a number: -\"))\n",
    "sum = 0\n",
    "\n",
    "for i in range(0, first_num):\n",
    "    sum = sum + second_num\n",
    "    \n",
    "print(\"Your result is :\", sum)"
   ]
  },
  {
   "cell_type": "markdown",
   "id": "98276a4f",
   "metadata": {},
   "source": [
    "24.Write a program that can find the factorial of a given number provided\n",
    "by the user."
   ]
  },
  {
   "cell_type": "code",
   "execution_count": 25,
   "id": "50113656",
   "metadata": {},
   "outputs": [
    {
     "name": "stdout",
     "output_type": "stream",
     "text": [
      "Enter a number: -5\n",
      "120\n"
     ]
    }
   ],
   "source": [
    "n = int(input(\"Enter a number: -\"))\n",
    "\n",
    "f=1\n",
    "for i in range(1,n+1):\n",
    "    f=f*i\n",
    "print(f)"
   ]
  },
  {
   "cell_type": "markdown",
   "id": "8555963b",
   "metadata": {},
   "source": [
    "25.Write a program to print the first 25 odd numbers"
   ]
  },
  {
   "cell_type": "code",
   "execution_count": 26,
   "id": "469ac433",
   "metadata": {},
   "outputs": [
    {
     "name": "stdout",
     "output_type": "stream",
     "text": [
      "[1, 3, 5, 7, 9, 11, 13, 15, 17, 19, 21, 23, 25, 27, 29, 31, 33, 35, 37, 39, 41, 43, 45, 47, 49]\n"
     ]
    }
   ],
   "source": [
    "n = 50\n",
    "odd =[]\n",
    "for i in range(1,n+1):\n",
    "    if i%2!=0:\n",
    "        odd.append(i)\n",
    "\n",
    "print(odd)\n"
   ]
  },
  {
   "cell_type": "code",
   "execution_count": 27,
   "id": "2b14bf05",
   "metadata": {},
   "outputs": [
    {
     "name": "stdout",
     "output_type": "stream",
     "text": [
      "1\n",
      "3\n",
      "5\n",
      "7\n",
      "9\n",
      "11\n",
      "13\n",
      "15\n",
      "17\n",
      "19\n",
      "21\n",
      "23\n",
      "25\n",
      "27\n",
      "29\n",
      "31\n",
      "33\n",
      "35\n",
      "37\n",
      "39\n",
      "41\n",
      "43\n",
      "45\n",
      "47\n",
      "49\n"
     ]
    }
   ],
   "source": [
    "flag = 0 \n",
    "i = 0\n",
    "\n",
    "while True:\n",
    "    if i % 2!=0:\n",
    "        print(i)\n",
    "        flag = flag + 1\n",
    "    if flag == 25:\n",
    "        break\n",
    "    i = i + 1"
   ]
  },
  {
   "cell_type": "markdown",
   "id": "5b2a41e6",
   "metadata": {},
   "source": [
    "26.Write a program to print whether a given number is prime number or\n",
    "not"
   ]
  },
  {
   "cell_type": "code",
   "execution_count": 32,
   "id": "e16062d5",
   "metadata": {},
   "outputs": [
    {
     "name": "stdout",
     "output_type": "stream",
     "text": [
      "Enter a number :- 7\n",
      "prime no\n"
     ]
    }
   ],
   "source": [
    "n = int(input(\"Enter a number :- \"))\n",
    "\n",
    "if n>1:\n",
    "    for i in range(2,n):\n",
    "        if n%i==0:\n",
    "            print(\"NOT prime\")\n",
    "            break\n",
    "    else:\n",
    "            print(\"prime no\")\n",
    "else:\n",
    "    print(\"NOT prime\")\n",
    "\n"
   ]
  },
  {
   "cell_type": "markdown",
   "id": "6539986f",
   "metadata": {},
   "source": [
    "27. Print all the armstrong numbers in the range of 100 to 1000"
   ]
  },
  {
   "cell_type": "code",
   "execution_count": 33,
   "id": "e2ed62d3",
   "metadata": {},
   "outputs": [
    {
     "name": "stdout",
     "output_type": "stream",
     "text": [
      "153\n",
      "370\n",
      "371\n",
      "407\n"
     ]
    }
   ],
   "source": [
    "for num in range(100,1000):\n",
    "    \n",
    "    i=num\n",
    "    a = num % 10 \n",
    "    num = num // 10\n",
    "    b = num % 10\n",
    "    c = num // 10\n",
    "    \n",
    "    if (a**3) + (b**3) +(c**3) == i:\n",
    "        print(i)\n",
    "        \n",
    "    i = i + 1\n",
    "    "
   ]
  },
  {
   "cell_type": "markdown",
   "id": "e96d6cce",
   "metadata": {},
   "source": [
    "28.The current population of a town is 10000. The population of the town is\n",
    "increasing at the rate of 10% per year. You have to write a program to\n",
    "find out the population at the end of each of the last 10 years. For eg\n",
    "current population is 10000 so the output should be like this:\n",
    "    \n",
    "10th year - 10000\n",
    "\n",
    "9th year - 9000\n",
    "\n",
    "8th year - 8100 and so on"
   ]
  },
  {
   "cell_type": "code",
   "execution_count": 34,
   "id": "3d190ef6",
   "metadata": {},
   "outputs": [
    {
     "name": "stdout",
     "output_type": "stream",
     "text": [
      "10000\n",
      "9000\n",
      "8100\n",
      "7290\n",
      "6561\n",
      "5904\n",
      "5314\n",
      "4782\n",
      "4304\n",
      "3874\n"
     ]
    }
   ],
   "source": [
    "flag = 0\n",
    "a = 10000\n",
    "print(a)\n",
    "\n",
    "while True:\n",
    "    b = (a) - ((10*a)/100)\n",
    "    a = b\n",
    "    print(int(b))\n",
    "    flag = flag + 1\n",
    "    \n",
    "    if flag == 9:\n",
    "        break\n",
    "    "
   ]
  },
  {
   "cell_type": "markdown",
   "id": "087202ea",
   "metadata": {},
   "source": [
    "29.Write a program to print all the unique combinations of 1,2,3 and 4\n"
   ]
  },
  {
   "cell_type": "code",
   "execution_count": 35,
   "id": "70ee26e9",
   "metadata": {},
   "outputs": [
    {
     "name": "stdout",
     "output_type": "stream",
     "text": [
      "1 2\n",
      "1 3\n",
      "1 4\n",
      "2 1\n",
      "2 3\n",
      "2 4\n",
      "3 1\n",
      "3 2\n",
      "3 4\n",
      "4 1\n",
      "4 2\n",
      "4 3\n"
     ]
    }
   ],
   "source": [
    "for i in range(1,5):\n",
    "    for j in range(1,5):\n",
    "        if(i != j):\n",
    "            print(i,j)"
   ]
  },
  {
   "cell_type": "markdown",
   "id": "be08ae07",
   "metadata": {},
   "source": [
    "30.User will provide 2 numbers you have to find the HCF of those 2\n",
    "numbers\n"
   ]
  },
  {
   "cell_type": "code",
   "execution_count": 36,
   "id": "3ca5bad8",
   "metadata": {},
   "outputs": [
    {
     "name": "stdout",
     "output_type": "stream",
     "text": [
      "Enter your first number:-6\n",
      "Enter your second number :-7\n",
      "Your HCF is : 1\n"
     ]
    }
   ],
   "source": [
    "a = int(input(\"Enter your first number:-\"))\n",
    "b = int(input(\"Enter your second number :-\"))\n",
    "\n",
    "while a % b != 0:\n",
    "    rem = a % b\n",
    "    a = b\n",
    "    b = rem\n",
    "print('Your HCF is :', b)"
   ]
  },
  {
   "cell_type": "markdown",
   "id": "69da2002",
   "metadata": {},
   "source": [
    "31. User will provide 2 numbers you have to find the by LCM of those 2\n",
    "numbers\n"
   ]
  },
  {
   "cell_type": "code",
   "execution_count": 2,
   "id": "365ad721",
   "metadata": {},
   "outputs": [
    {
     "name": "stdout",
     "output_type": "stream",
     "text": [
      "Enter your first number:-2\n",
      "Enter your second number :-3\n",
      "Your LCM is 6.0\n"
     ]
    }
   ],
   "source": [
    "a = int(input(\"Enter your first number:-\"))\n",
    "num_1 = a\n",
    "b = int(input(\"Enter your second number :-\"))\n",
    "num_2 = b\n",
    "\n",
    "while num_1 % num_2 != 0:\n",
    "    rem = num_1 % num_2\n",
    "    num_1 = num_2\n",
    "    num_2 = rem\n",
    "hcf = num_2\n",
    "\n",
    "lcm = (a*b)/hcf\n",
    "print('Your LCM is', lcm)\n",
    "\n",
    "\n"
   ]
  },
  {
   "cell_type": "markdown",
   "id": "880eece5",
   "metadata": {},
   "source": [
    "32.Print first 25 prime numbers"
   ]
  },
  {
   "cell_type": "code",
   "execution_count": null,
   "id": "cf621be8",
   "metadata": {},
   "outputs": [],
   "source": [
    "counter = 0\n",
    "num = 2\n",
    "while(counter <= 25):\n",
    "    for i in range (2, num):\n",
    "        if num % i==0 :\n",
    "            break\n",
    "    else:\n",
    "        print(num)\n",
    "        counter = counter + 1\n",
    "    num = num +1"
   ]
  },
  {
   "cell_type": "markdown",
   "id": "f2773446",
   "metadata": {},
   "source": [
    "33.Print the first 20 numbers of a Fibonacci series"
   ]
  },
  {
   "cell_type": "code",
   "execution_count": 4,
   "id": "fe05e06c",
   "metadata": {},
   "outputs": [
    {
     "name": "stdout",
     "output_type": "stream",
     "text": [
      "Enter a number20\n",
      "0 1 1 2 3 5 8 13 21 34 55 89 144 233 377 610 987 1597 2584 4181 "
     ]
    }
   ],
   "source": [
    "n = int(input(\"Enter a number\"))\n",
    "x=0\n",
    "y=1\n",
    "for i in range(n):\n",
    "    print(x,end=\" \")\n",
    "    z=x+y\n",
    "    x=y\n",
    "    y=z"
   ]
  },
  {
   "cell_type": "code",
   "execution_count": 5,
   "id": "1f0b900f",
   "metadata": {},
   "outputs": [
    {
     "name": "stdout",
     "output_type": "stream",
     "text": [
      "0\n",
      "1\n",
      "1\n",
      "2\n",
      "3\n",
      "5\n",
      "8\n",
      "13\n",
      "21\n",
      "34\n",
      "55\n",
      "89\n",
      "144\n",
      "233\n",
      "377\n",
      "610\n",
      "987\n",
      "1597\n",
      "2584\n",
      "4181\n"
     ]
    }
   ],
   "source": [
    "# another method\n",
    "count = 0\n",
    "a=0\n",
    "b=1\n",
    "print(a)\n",
    "print(b)\n",
    "\n",
    "while True:\n",
    "    c = a + b\n",
    "    a = b\n",
    "    b = c\n",
    "    print(c)\n",
    "    count = count + 1\n",
    "    if count == 18:\n",
    "        break\n",
    "        "
   ]
  },
  {
   "cell_type": "markdown",
   "id": "600318ee",
   "metadata": {},
   "source": [
    "34.Write a program to find the compound interest"
   ]
  },
  {
   "cell_type": "code",
   "execution_count": 7,
   "id": "7ebb48d6",
   "metadata": {},
   "outputs": [
    {
     "name": "stdout",
     "output_type": "stream",
     "text": [
      "Enter your principal:- 1000\n",
      "Enter rate of interest:- 2\n",
      "Enter the time period elapsed:- 2\n",
      "Your amount is:- 1040.4\n",
      "Your compound interest is: 40.40000000000009\n"
     ]
    }
   ],
   "source": [
    "p = int(input(\"Enter your principal:- \"))\n",
    "r = int(input(\"Enter rate of interest:- \"))\n",
    "t = int(input(\"Enter the time period elapsed:- \"))\n",
    "\n",
    "a = p*(1+r/100)**t\n",
    "print('Your amount is:-',a)\n",
    "\n",
    "ci = a - p\n",
    "print('Your compound interest is:', ci)"
   ]
  },
  {
   "cell_type": "markdown",
   "id": "2d046f50",
   "metadata": {},
   "source": [
    "35.Write a Python program that accepts an integer (n) and computes the\n",
    "value of n+nn+nnn."
   ]
  },
  {
   "cell_type": "code",
   "execution_count": 8,
   "id": "39ce9c47",
   "metadata": {},
   "outputs": [
    {
     "name": "stdout",
     "output_type": "stream",
     "text": [
      "Enter your number2\n",
      "n is: 2\n",
      "nn is: 22\n",
      "nnn is: 222\n",
      "246\n"
     ]
    }
   ],
   "source": [
    "# (2 + 22 + 222)\n",
    "n = input(\"Enter your number\" )\n",
    "print('n is:',n)\n",
    "nn = n + n\n",
    "print('nn is:', nn)\n",
    "nnn = n+n+n\n",
    "print('nnn is:',nnn)\n",
    "c = int(n) + int(nn) + int(nnn)\n",
    "print(c)"
   ]
  },
  {
   "cell_type": "markdown",
   "id": "4a39c37d",
   "metadata": {},
   "source": [
    "36.Take a number from the user and find the number of digits in it"
   ]
  },
  {
   "cell_type": "code",
   "execution_count": 10,
   "id": "52d24465",
   "metadata": {},
   "outputs": [
    {
     "name": "stdout",
     "output_type": "stream",
     "text": [
      "12\n"
     ]
    }
   ],
   "source": [
    "# Python3 implementation of the approach\n",
    "def count_digits(n):\n",
    "    n = str(n)\n",
    "    return len(n)\n",
    "\n",
    "\n",
    "# Driver code\n",
    "n = 456533457776\n",
    "print(count_digits(n))\n"
   ]
  },
  {
   "cell_type": "code",
   "execution_count": 11,
   "id": "e2fbc59f",
   "metadata": {},
   "outputs": [
    {
     "name": "stdout",
     "output_type": "stream",
     "text": [
      "Enter your number345\n",
      "Number of digits: 3\n"
     ]
    }
   ],
   "source": [
    "#Another way\n",
    "a = int(input(\"Enter your number\"))\n",
    "count = 0\n",
    "\n",
    "while(a > 0):\n",
    "    a = a // 10\n",
    "    count = count + 1\n",
    "print('Number of digits:',count)"
   ]
  },
  {
   "cell_type": "markdown",
   "id": "0e513c06",
   "metadata": {},
   "source": [
    "37. Print all factors of a given number provided by the user"
   ]
  },
  {
   "cell_type": "code",
   "execution_count": 12,
   "id": "cc3a94d2",
   "metadata": {},
   "outputs": [
    {
     "name": "stdout",
     "output_type": "stream",
     "text": [
      "Enter a number56\n",
      "Your factore are: 1\n",
      "Your factore are: 2\n",
      "Your factore are: 4\n",
      "Your factore are: 7\n",
      "Your factore are: 8\n",
      "Your factore are: 14\n",
      "Your factore are: 28\n",
      "Your factore are: 56\n"
     ]
    }
   ],
   "source": [
    "n = int(input(\"Enter a number\"))\n",
    "\n",
    "for i in range(1,n+1):\n",
    "    if n%i==0:\n",
    "        print('Your factore are:',i)"
   ]
  },
  {
   "cell_type": "markdown",
   "id": "a42a8dad",
   "metadata": {},
   "source": [
    "38. Find the reverse of a number provided by the user(any number of digit)\n"
   ]
  },
  {
   "cell_type": "code",
   "execution_count": 13,
   "id": "8ec47429",
   "metadata": {},
   "outputs": [
    {
     "name": "stdout",
     "output_type": "stream",
     "text": [
      "Enter a number456\n",
      "654\n"
     ]
    }
   ],
   "source": [
    "n = int(input(\"Enter a number\"))\n",
    "rev=0\n",
    "while(n!=0):\n",
    "    rem=n%10\n",
    "    rev=(rev*10)+rem\n",
    "    n=n//10\n",
    "print(rev)"
   ]
  },
  {
   "cell_type": "markdown",
   "id": "8581efc2",
   "metadata": {},
   "source": [
    "39.Write a program to print the following pattern"
   ]
  },
  {
   "cell_type": "code",
   "execution_count": null,
   "id": "88563340",
   "metadata": {},
   "outputs": [],
   "source": [
    "*\n",
    "**\n",
    "***\n",
    "****\n",
    "*****"
   ]
  },
  {
   "cell_type": "code",
   "execution_count": 14,
   "id": "d6ec9bde",
   "metadata": {},
   "outputs": [
    {
     "name": "stdout",
     "output_type": "stream",
     "text": [
      "* \n",
      "* * \n",
      "* * * \n",
      "* * * * \n",
      "* * * * * \n"
     ]
    }
   ],
   "source": [
    "r = 5\n",
    "for i in range(1,r+1):\n",
    "    for j in range(1,i+1):\n",
    "        print(\"*\", end=' ')\n",
    "    print()"
   ]
  },
  {
   "cell_type": "markdown",
   "id": "cee47956",
   "metadata": {},
   "source": [
    "40.Write a program to print the following pattern"
   ]
  },
  {
   "cell_type": "code",
   "execution_count": null,
   "id": "62aee323",
   "metadata": {},
   "outputs": [],
   "source": [
    "*\n",
    "**\n",
    "***\n",
    "**\n",
    "*"
   ]
  },
  {
   "cell_type": "code",
   "execution_count": 16,
   "id": "6e0b6db2",
   "metadata": {},
   "outputs": [
    {
     "name": "stdout",
     "output_type": "stream",
     "text": [
      "Enter number of rows:3\n",
      "* \n",
      "* * \n",
      "* * * \n",
      "* * \n",
      "* \n",
      "\n"
     ]
    }
   ],
   "source": [
    "row = int(input(\"Enter number of rows:\"))\n",
    "\n",
    "for i in range(1,row+1):\n",
    "    for j in range(0,i):\n",
    "        print('*',end=\" \")\n",
    "    print()\n",
    "    \n",
    "for k in range(row,0,-1):\n",
    "    for l in range(0,k-1):\n",
    "        print('*',end=\" \")\n",
    "    print('')\n",
    "        "
   ]
  },
  {
   "cell_type": "markdown",
   "id": "70ba1700",
   "metadata": {},
   "source": [
    "41. Write a program to print the following pattern"
   ]
  },
  {
   "cell_type": "code",
   "execution_count": null,
   "id": "ef894da9",
   "metadata": {},
   "outputs": [],
   "source": []
  },
  {
   "cell_type": "markdown",
   "id": "229daa07",
   "metadata": {},
   "source": [
    "42.Write a program to print the following pattern"
   ]
  },
  {
   "cell_type": "code",
   "execution_count": null,
   "id": "c58a6062",
   "metadata": {},
   "outputs": [],
   "source": [
    "1\n",
    "1 2 1\n",
    "1 2 3 2 1\n",
    "1 2 3 4 3 2 1\n",
    "1 2 3 4 5 4 3 2 1"
   ]
  },
  {
   "cell_type": "code",
   "execution_count": 1,
   "id": "f8fe15ba",
   "metadata": {},
   "outputs": [
    {
     "name": "stdout",
     "output_type": "stream",
     "text": [
      "Enter number of rows:5\n",
      "1 \n",
      "1 2 1 \n",
      "1 2 3 2 1 \n",
      "1 2 3 4 3 2 1 \n",
      "1 2 3 4 5 4 3 2 1 \n"
     ]
    }
   ],
   "source": [
    "row = int(input(\"Enter number of rows:\"))\n",
    "\n",
    "for i in range(1,row+1):\n",
    "    for j in range(1,i+1):\n",
    "        print(j,end = ' ')\n",
    "    for k in range(i-1,0,-1):\n",
    "        print(k,end = ' ')\n",
    "    print()"
   ]
  },
  {
   "cell_type": "code",
   "execution_count": null,
   "id": "740c5007",
   "metadata": {},
   "outputs": [],
   "source": [
    "43.Write a program to print the following pattern\n",
    "1\n",
    "2 3\n",
    "4 5 6\n",
    "7 8 9 10\n"
   ]
  },
  {
   "cell_type": "code",
   "execution_count": 2,
   "id": "3a2e197b",
   "metadata": {},
   "outputs": [
    {
     "name": "stdout",
     "output_type": "stream",
     "text": [
      "Enter number of rows:4\n",
      "1  \n",
      "2 3  \n",
      "4 5 6  \n",
      "7 8 9 10  \n"
     ]
    }
   ],
   "source": [
    "row = int(input(\"Enter number of rows:\"))\n",
    "num = 1\n",
    "for i in range(1,row + 1):\n",
    "    for j in range(1,i+1):\n",
    "        print(num, end =' ')\n",
    "        num = num + 1\n",
    "    print(' ')"
   ]
  },
  {
   "cell_type": "markdown",
   "id": "cb9f8242",
   "metadata": {},
   "source": [
    "44. Write a program to calculate the sum of the following series till the\n",
    "nth term\n",
    "1/1! + 2/2! + 3/3! + 4/4! +…….+ n/n!\n",
    "n will be provided by the user"
   ]
  },
  {
   "cell_type": "code",
   "execution_count": 4,
   "id": "3f01ef5b",
   "metadata": {},
   "outputs": [
    {
     "name": "stdout",
     "output_type": "stream",
     "text": [
      "Enter your number: 5\n",
      "2.104707792207792\n"
     ]
    }
   ],
   "source": [
    "num = int(input(\"Enter your number: \"))\n",
    "result = 0\n",
    "fact = 1\n",
    "\n",
    "for i in range(1, num + 1):\n",
    "    fact = fact + i\n",
    "    result = result + (i/fact)\n",
    "print(result)"
   ]
  },
  {
   "cell_type": "markdown",
   "id": "923de1ea",
   "metadata": {},
   "source": [
    "45.Write a Python Program to Find the Sum of the Series till the nth term:\n",
    "1 + x^2/2 + x^3/3 + … x^n/n\n",
    "n will be provided by the user"
   ]
  },
  {
   "cell_type": "code",
   "execution_count": 5,
   "id": "d4ef8b6e",
   "metadata": {},
   "outputs": [
    {
     "name": "stdout",
     "output_type": "stream",
     "text": [
      "Enter your number: 4\n",
      "1.674774169921875\n"
     ]
    }
   ],
   "source": [
    "x = int(input(\"Enter your number: \"))\n",
    "n = 7\n",
    "sum = ((x-1)/x)\n",
    "\n",
    "for i in range(2,n+1):\n",
    "    sum = sum + (1/2*((x-1)/x)**i)\n",
    "print(sum)"
   ]
  },
  {
   "cell_type": "markdown",
   "id": "a691a39d",
   "metadata": {},
   "source": [
    "46.The natural logarithm can be approximated by the following series.\n",
    "If x is input through the keyboard, write a program to calculate the\n",
    "sum of the first seven terms of this series"
   ]
  },
  {
   "cell_type": "code",
   "execution_count": null,
   "id": "9a14acdc",
   "metadata": {},
   "outputs": [],
   "source": []
  },
  {
   "cell_type": "markdown",
   "id": "1429bf08",
   "metadata": {},
   "source": [
    "47. Write a program that keeps on accepting a number from the user until\n",
    "the user enters Zero. Display the sum and average of all the numbers."
   ]
  },
  {
   "cell_type": "code",
   "execution_count": 7,
   "id": "f8aa1738",
   "metadata": {},
   "outputs": [
    {
     "name": "stdout",
     "output_type": "stream",
     "text": [
      "Enter your number1\n",
      "Another number please:2\n",
      "Another number please:3\n",
      "Another number please:4\n",
      "Another number please:5\n",
      "Another number please:6\n",
      "Another number please:0\n",
      "Thank you\n",
      "Your sum is: 21\n",
      "Your avg is 3.5\n"
     ]
    }
   ],
   "source": [
    "num = int(input(\"Enter your number\"))\n",
    "add = 0\n",
    "avg = 0\n",
    "count = 0\n",
    "\n",
    "while True:\n",
    "    if num != 0:\n",
    "        add = add + num\n",
    "        count += 1\n",
    "        avg = add/count\n",
    "        num = int(input(\"Another number please:\"))\n",
    "        \n",
    "    else:\n",
    "        print('Thank you')\n",
    "        break\n",
    "print('Your sum is:', add)\n",
    "print('Your avg is', avg)\n"
   ]
  },
  {
   "cell_type": "markdown",
   "id": "0a6e1d3e",
   "metadata": {},
   "source": [
    "48.Write a program that accepts 2 numbers from the user a numerator\n",
    "and a denominator and then simplifies it\n",
    "Eg if the num = 5, den = 15 the answer should be ⅓\n",
    "Eg if the num = 6, den = 9 the answer should be ⅔\n"
   ]
  },
  {
   "cell_type": "code",
   "execution_count": 9,
   "id": "967980af",
   "metadata": {},
   "outputs": [
    {
     "name": "stdout",
     "output_type": "stream",
     "text": [
      "Enter your first number2\n",
      "Enter your second number6\n",
      "0.3333333333333333\n"
     ]
    }
   ],
   "source": [
    "a = int(input(\"Enter your first number\"))\n",
    "num_1 = a\n",
    "b = int(input(\"Enter your second number\"))\n",
    "num_2 = b\n",
    "\n",
    "while num_1 % num_2 != 0:\n",
    "    rem = num_1 % num_2\n",
    "    num_1 = num_2\n",
    "    num_2 = rem\n",
    "hcf = num_2\n",
    "a = a/hcf\n",
    "b = b/hcf\n",
    "print(a/b)"
   ]
  },
  {
   "cell_type": "markdown",
   "id": "a6253f0d",
   "metadata": {},
   "source": [
    "49.Find the length of a given string without using the len() function."
   ]
  },
  {
   "cell_type": "code",
   "execution_count": 10,
   "id": "fafe24a1",
   "metadata": {},
   "outputs": [
    {
     "name": "stdout",
     "output_type": "stream",
     "text": [
      "Enter your stringhello vartika singh\n",
      "Length of the string is 19\n"
     ]
    }
   ],
   "source": [
    "a = input('Enter your string')\n",
    "count = 0\n",
    "\n",
    "for i in a:\n",
    "    count = count + 1\n",
    "print('Length of the string is', count)"
   ]
  },
  {
   "cell_type": "markdown",
   "id": "cc287ee8",
   "metadata": {},
   "source": [
    "50.Extract username from a given email.\n",
    "Eg if the email is nitish24singh@gmail.com then the username\n",
    "should be nitish24singh\n"
   ]
  },
  {
   "cell_type": "code",
   "execution_count": 11,
   "id": "32573156",
   "metadata": {},
   "outputs": [
    {
     "name": "stdout",
     "output_type": "stream",
     "text": [
      "Enter your emailgrbhosale33@gmail.com\n",
      "grbhosale33\n"
     ]
    }
   ],
   "source": [
    "email = input('Enter your email')\n",
    "username,mail = email.split('@')\n",
    "print(username)"
   ]
  },
  {
   "cell_type": "markdown",
   "id": "d42385f0",
   "metadata": {},
   "source": [
    "51. Count the frequency of a particular character in a provided string. Eg\n",
    "'hello how are you' is the string, the frequency of h in this string is 2."
   ]
  },
  {
   "cell_type": "code",
   "execution_count": 1,
   "id": "604a6ce5",
   "metadata": {},
   "outputs": [
    {
     "name": "stdout",
     "output_type": "stream",
     "text": [
      "Enter a stringhello vertika singh\n",
      "Enter a characterh\n",
      "Character occured: 2 times\n"
     ]
    }
   ],
   "source": [
    "a = input(\"Enter a string\")\n",
    "b = input(\"Enter a character\")\n",
    "count = 0\n",
    "\n",
    "for i in a:\n",
    "    if i in b:\n",
    "        count = count + 1\n",
    "print('Character occured:',count,'times')"
   ]
  },
  {
   "cell_type": "markdown",
   "id": "a5ac5620",
   "metadata": {},
   "source": [
    "52.Find the index position of a particular character in another string."
   ]
  },
  {
   "cell_type": "code",
   "execution_count": 1,
   "id": "011722e9",
   "metadata": {},
   "outputs": [
    {
     "name": "stdout",
     "output_type": "stream",
     "text": [
      "Enter a stringi am happy\n",
      "Enter a characteri\n",
      "0\n"
     ]
    }
   ],
   "source": [
    "a = input(\"Enter a string\")\n",
    "b = input(\"Enter a character\")\n",
    "\n",
    "print(a.index(b))"
   ]
  },
  {
   "cell_type": "markdown",
   "id": "ec950951",
   "metadata": {},
   "source": [
    "53.Count the number of vowels in a string provided by the user."
   ]
  },
  {
   "cell_type": "code",
   "execution_count": 3,
   "id": "04da1d7b",
   "metadata": {},
   "outputs": [
    {
     "name": "stdout",
     "output_type": "stream",
     "text": [
      "Enter a string I am humble\n",
      "3\n"
     ]
    }
   ],
   "source": [
    "a = input(\"Enter a string \")\n",
    "vowels = \"aeiou\"\n",
    "counts = 0\n",
    "\n",
    "for i in a:\n",
    "    if i in vowels:\n",
    "        counts = counts + 1\n",
    "print(counts)"
   ]
  },
  {
   "cell_type": "markdown",
   "id": "eb5a3018",
   "metadata": {},
   "source": [
    "54.Write a program which can remove a particular character from a string.\n"
   ]
  },
  {
   "cell_type": "code",
   "execution_count": null,
   "id": "a0b9e909",
   "metadata": {},
   "outputs": [],
   "source": [
    "a = input(\"Enter a string\")\n",
    "b = int(input(\"Enter the value of character\")\n",
    "\n",
    "c = a[0:b-1]\n",
    "d = a[b: ]\n",
    "print(c+d)"
   ]
  },
  {
   "cell_type": "markdown",
   "id": "7ee77019",
   "metadata": {},
   "source": [
    "55.Write a program that can check whether a given string is palindrome or\n",
    "not."
   ]
  },
  {
   "cell_type": "code",
   "execution_count": 6,
   "id": "2c3649db",
   "metadata": {},
   "outputs": [
    {
     "name": "stdout",
     "output_type": "stream",
     "text": [
      "Enter a stringgkg\n",
      "elbmuh ma I\n",
      "not pal\n"
     ]
    }
   ],
   "source": [
    "n = input(\"Enter a string\")\n",
    "rev = ''\n",
    "\n",
    "for i in range(len(a)-1,-1,-1):\n",
    "    rev = rev + a[i]\n",
    "print(rev)\n",
    "\n",
    "if rev==a:\n",
    "    print('palindrom')\n",
    "    \n",
    "else:\n",
    "    print(\"not pal\")"
   ]
  },
  {
   "cell_type": "markdown",
   "id": "5c29e58b",
   "metadata": {},
   "source": [
    "56.Write a python program to remove all the duplicates from a list"
   ]
  },
  {
   "cell_type": "code",
   "execution_count": 7,
   "id": "aa4a4176",
   "metadata": {},
   "outputs": [
    {
     "name": "stdout",
     "output_type": "stream",
     "text": [
      "[1, 2, 3, 4, 5, 6]\n"
     ]
    }
   ],
   "source": [
    "a = [1,2,2,3,3,4,5,6,4]\n",
    "b = []\n",
    "\n",
    "for i in a:\n",
    "    if i not in b:\n",
    "        b.append(i)\n",
    "print(b)"
   ]
  },
  {
   "cell_type": "markdown",
   "id": "d0fe94a4",
   "metadata": {},
   "source": [
    "57.Write a python program to convert a string to title case without using\n",
    "the title()\n"
   ]
  },
  {
   "cell_type": "code",
   "execution_count": 8,
   "id": "acfdaded",
   "metadata": {},
   "outputs": [
    {
     "name": "stdout",
     "output_type": "stream",
     "text": [
      "['hELLo', 'gaNESh', 'BhosaLE']\n",
      "Hello Ganesh Bhosale \n"
     ]
    }
   ],
   "source": [
    "a = \"hELLo gaNESh BhosaLE\"\n",
    "y = a.split()\n",
    "print(y)\n",
    "\n",
    "r = ''\n",
    "for i in y:\n",
    "    r = r + i[0].upper() + i[1:].lower() + ' '\n",
    "print(r)"
   ]
  },
  {
   "cell_type": "markdown",
   "id": "70ea432d",
   "metadata": {},
   "source": [
    "58.Write a python program to find the max item from a list without using\n",
    "the max function."
   ]
  },
  {
   "cell_type": "code",
   "execution_count": 10,
   "id": "7c0cc0d4",
   "metadata": {},
   "outputs": [
    {
     "name": "stdout",
     "output_type": "stream",
     "text": [
      "8\n"
     ]
    }
   ],
   "source": [
    "l = [2,3,4,5,6,7,8]\n",
    "max = l[0]\n",
    "for i in l:\n",
    "    if i > max:\n",
    "        max = i\n",
    "print(max)"
   ]
  },
  {
   "cell_type": "markdown",
   "id": "7154a134",
   "metadata": {},
   "source": [
    "59.Write a python program to reverse a list"
   ]
  },
  {
   "cell_type": "code",
   "execution_count": 12,
   "id": "934ea93c",
   "metadata": {},
   "outputs": [
    {
     "name": "stdout",
     "output_type": "stream",
     "text": [
      "[8, 7, 6, 5, 4, 3, 2, 1]\n"
     ]
    }
   ],
   "source": [
    "l = [1,2,3,4,5,6,7,8]\n",
    "rev=[]\n",
    "\n",
    "for i in range(len(l)-1,-1,-1):\n",
    "    rev.append(l[i])\n",
    "print(rev)"
   ]
  },
  {
   "cell_type": "markdown",
   "id": "0ac3408f",
   "metadata": {},
   "source": [
    "60.Write a python program to search a given number from a list\n"
   ]
  },
  {
   "cell_type": "code",
   "execution_count": 13,
   "id": "15530541",
   "metadata": {},
   "outputs": [
    {
     "name": "stdout",
     "output_type": "stream",
     "text": [
      "Enter a  number6\n",
      "True\n"
     ]
    }
   ],
   "source": [
    "L = [1,2,3,4,5,6,7,8]\n",
    "num = int(input(\"Enter a  number\"))\n",
    "\n",
    "for i in L:\n",
    "    if i == num:\n",
    "        print('True')\n",
    "        break\n",
    "else:\n",
    "    print('False')"
   ]
  },
  {
   "cell_type": "markdown",
   "id": "15d5f7f5",
   "metadata": {},
   "source": [
    "61. Write a program that can create a new list from a given list where each\n",
    "item in the new list is square of the item of the old list."
   ]
  },
  {
   "cell_type": "code",
   "execution_count": 14,
   "id": "93d2cc01",
   "metadata": {},
   "outputs": [
    {
     "name": "stdout",
     "output_type": "stream",
     "text": [
      "[4, 9, 16, 25]\n"
     ]
    }
   ],
   "source": [
    "L1 = [2,3,4,5]\n",
    "L2 = []\n",
    "\n",
    "for i in L1:\n",
    "    L2.append(i**2)\n",
    "print(L2)"
   ]
  },
  {
   "cell_type": "markdown",
   "id": "2349af5f",
   "metadata": {},
   "source": [
    "62.Write a program that can reverse words of a given string.\n",
    "Eg if the input is Hello how are you\n",
    "Output should be you are how Hello"
   ]
  },
  {
   "cell_type": "code",
   "execution_count": 15,
   "id": "e5b2805a",
   "metadata": {},
   "outputs": [
    {
     "name": "stdout",
     "output_type": "stream",
     "text": [
      "Enter a string Hello how are you \n",
      "you are how Hello\n"
     ]
    }
   ],
   "source": [
    "a = input(\"Enter a string\")\n",
    "x = a.split()\n",
    "rev = []\n",
    "\n",
    "for i in range(len(x)-1,-1,-1):\n",
    "    rev.append(x[i])\n",
    "y=' '.join(rev)\n",
    "print(y)"
   ]
  },
  {
   "cell_type": "markdown",
   "id": "8b5636a8",
   "metadata": {},
   "source": [
    "63.Write a program that can count the number of words in a given string"
   ]
  },
  {
   "cell_type": "code",
   "execution_count": 17,
   "id": "f6f3458f",
   "metadata": {},
   "outputs": [
    {
     "name": "stdout",
     "output_type": "stream",
     "text": [
      "Enter a stringI love you\n",
      "number of word 3\n"
     ]
    }
   ],
   "source": [
    "a = input(\"Enter a string\")\n",
    "count = 0\n",
    "\n",
    "for i in a:\n",
    "    if i == ' ':\n",
    "        count = count + 1\n",
    "word = count + 1\n",
    "print('number of word',word)"
   ]
  },
  {
   "cell_type": "markdown",
   "id": "873bc635",
   "metadata": {},
   "source": [
    "64.Write a program to check if a list is in ascending order or not\n"
   ]
  },
  {
   "cell_type": "code",
   "execution_count": null,
   "id": "df9dc857",
   "metadata": {},
   "outputs": [],
   "source": []
  },
  {
   "cell_type": "markdown",
   "id": "34461618",
   "metadata": {},
   "source": [
    "65.Create 2 lists from a given list where 1st list will contain all the odd\n",
    "numbers from the original list and the 2nd one will contain all the even\n",
    "numbers"
   ]
  },
  {
   "cell_type": "code",
   "execution_count": 18,
   "id": "0f1c8e5e",
   "metadata": {},
   "outputs": [
    {
     "name": "stdout",
     "output_type": "stream",
     "text": [
      "[2, 4, 6, 8, 10, 12, 14, 16, 18, 20, 22, 24, 26, 28, 30, 32, 34, 36, 38, 40, 42, 44, 46, 48, 50, 52, 54, 56, 58, 60, 62, 64, 66, 68, 70, 72, 74, 76, 78, 80, 82, 84, 86, 88, 90, 92, 94, 96, 98, 100]\n",
      "[1, 3, 5, 7, 9, 11, 13, 15, 17, 19, 21, 23, 25, 27, 29, 31, 33, 35, 37, 39, 41, 43, 45, 47, 49, 51, 53, 55, 57, 59, 61, 63, 65, 67, 69, 71, 73, 75, 77, 79, 81, 83, 85, 87, 89, 91, 93, 95, 97, 99]\n"
     ]
    }
   ],
   "source": [
    "even = []\n",
    "odd = []\n",
    "\n",
    "for i in range(1,101):\n",
    "    if i%2==0:\n",
    "        even.append(i)\n",
    "    else:\n",
    "        odd.append(i)\n",
    "        \n",
    "print(even)\n",
    "print(odd)"
   ]
  },
  {
   "cell_type": "markdown",
   "id": "dc39f633",
   "metadata": {},
   "source": [
    "66.Write a program to merge 2 list without using the + operator"
   ]
  },
  {
   "cell_type": "code",
   "execution_count": 19,
   "id": "b78f34bf",
   "metadata": {},
   "outputs": [
    {
     "name": "stdout",
     "output_type": "stream",
     "text": [
      "[1, 2, 3, 4, 5, 6, 7, 8]\n"
     ]
    }
   ],
   "source": [
    "L1 = [1,2,3,4]\n",
    "L2 = [5,6,7,8]\n",
    "L=[]\n",
    "for i in L1:\n",
    "    L.append(i)\n",
    "for j in L2:\n",
    "    L.append(j)\n",
    "print(L)\n",
    "    "
   ]
  },
  {
   "cell_type": "markdown",
   "id": "c193f1b3",
   "metadata": {},
   "source": [
    "67.Write a program to replace an item with a different item if found in the\n",
    "list\n"
   ]
  },
  {
   "cell_type": "code",
   "execution_count": 20,
   "id": "c99c244b",
   "metadata": {},
   "outputs": [
    {
     "name": "stdout",
     "output_type": "stream",
     "text": [
      "Enter a number you want to replace100\n",
      "Enter your number200\n",
      "Not found\n"
     ]
    }
   ],
   "source": [
    "L = [1,2,3,4]\n",
    "find = int(input(\"Enter a number you want to replace\"))\n",
    "replace = int(input(\"Enter your number\"))\n",
    "\n",
    "for i in range(0,len(L)):\n",
    "    if find == L[i]:\n",
    "        L[i] = replace\n",
    "        print(L)\n",
    "        break\n",
    "else:\n",
    "    print(\"Not found\")"
   ]
  },
  {
   "cell_type": "markdown",
   "id": "e27dc7c0",
   "metadata": {},
   "source": [
    "68.Write a program that can convert a 2D list to 1D list\n"
   ]
  },
  {
   "cell_type": "code",
   "execution_count": 21,
   "id": "d216532f",
   "metadata": {},
   "outputs": [
    {
     "name": "stdout",
     "output_type": "stream",
     "text": [
      "[1, 2, 3, 4, 5, 6, 7]\n"
     ]
    }
   ],
   "source": [
    "L = [1,2,3,4,[5,6,7]]\n",
    "rev = []\n",
    "\n",
    "for i in L:\n",
    "    if type(i)==list:\n",
    "        rev.extend(i)\n",
    "    else:\n",
    "        rev.append(i)\n",
    "print(rev)"
   ]
  },
  {
   "cell_type": "markdown",
   "id": "47a5d689",
   "metadata": {},
   "source": [
    "69.Write a program that can perform union and intersection on 2 given list."
   ]
  },
  {
   "cell_type": "code",
   "execution_count": 22,
   "id": "1401a183",
   "metadata": {},
   "outputs": [
    {
     "name": "stdout",
     "output_type": "stream",
     "text": [
      "your union list [1, 2, 3, 4, 5, 6, 7]\n",
      "intersection [3, 4, 5]\n"
     ]
    }
   ],
   "source": [
    "L1 = [1,2,3,4,5]\n",
    "L2 = [3,4,5,6,7]\n",
    "union = []\n",
    "intersection = []\n",
    "\n",
    "#union\n",
    "for i in L1:\n",
    "    if i not in union:\n",
    "        union.append(i)\n",
    "for j in L2:\n",
    "    if j not in union:\n",
    "        union.append(j)\n",
    "        \n",
    "# intersection\n",
    "for i in L1:\n",
    "    if i in L2:\n",
    "        intersection.append(i)\n",
    "\n",
    "print('your union list',union)\n",
    "print('intersection',intersection)\n",
    "        \n",
    "        "
   ]
  },
  {
   "cell_type": "markdown",
   "id": "10dfea0b",
   "metadata": {},
   "source": [
    "70.Write a program that can print the max item of each row of a matrix.\n"
   ]
  },
  {
   "cell_type": "code",
   "execution_count": 23,
   "id": "87004f86",
   "metadata": {},
   "outputs": [
    {
     "name": "stdout",
     "output_type": "stream",
     "text": [
      "1\n",
      "2\n",
      "3\n",
      "4\n",
      "5\n",
      "6\n",
      "7\n",
      "8\n",
      "9\n"
     ]
    }
   ],
   "source": [
    "matrix = [\n",
    "    [1,2,3],\n",
    "    [4,5,6],\n",
    "    [7,8,9]\n",
    "]\n",
    "for i in matrix:\n",
    "    max = i[0]\n",
    "    for j in i:\n",
    "        if j > max:\n",
    "            max = j\n",
    "        print(max)\n",
    "                "
   ]
  },
  {
   "cell_type": "markdown",
   "id": "46454074",
   "metadata": {},
   "source": [
    "71. Write a program that can convert an integer to string."
   ]
  },
  {
   "cell_type": "code",
   "execution_count": 2,
   "id": "46668db6",
   "metadata": {},
   "outputs": [
    {
     "name": "stdout",
     "output_type": "stream",
     "text": [
      "Enter Any Number = 45\n",
      "45\n",
      "<class 'int'>\n",
      "45\n",
      "<class 'str'>\n"
     ]
    }
   ],
   "source": [
    "num = int(input(\"Enter Any Number = \"))\n",
    "\n",
    "print(num)\n",
    "print(type(num))\n",
    "\n",
    "intToString = \"%s\" %num\n",
    "\n",
    "print(intToString)\n",
    "print(type(intToString))"
   ]
  },
  {
   "cell_type": "markdown",
   "id": "c4bf861e",
   "metadata": {},
   "source": [
    "72. Write a program to print the shape of a matrix."
   ]
  },
  {
   "cell_type": "code",
   "execution_count": 3,
   "id": "5c9d60a4",
   "metadata": {},
   "outputs": [
    {
     "name": "stdout",
     "output_type": "stream",
     "text": [
      "The shape of this matrix is 2 * 3\n"
     ]
    }
   ],
   "source": [
    "matrix = [\n",
    "    [1,2,3],\n",
    "    [4,5,6]\n",
    "]\n",
    "\n",
    "row = 0\n",
    "for i in matrix:\n",
    "    row = row + 1\n",
    "print('The shape of this matrix is',row, '*',len(i))"
   ]
  },
  {
   "cell_type": "markdown",
   "id": "b96737bb",
   "metadata": {},
   "source": [
    "73.Write a program that can check if you can perform matrix\n",
    "multiplication on 2 matrices\n"
   ]
  },
  {
   "cell_type": "code",
   "execution_count": 4,
   "id": "df181d4d",
   "metadata": {},
   "outputs": [
    {
     "name": "stdout",
     "output_type": "stream",
     "text": [
      "matrix_1 [1, 2, 3]\n",
      "matrix_1 [4, 5, 6]\n",
      "matrix_1 [7, 8, 9]\n",
      "row_1 3\n",
      "column_1 3\n",
      "matrix_2 [2, 3]\n",
      "matrix_2 [4, 5]\n",
      "matrix_2 [7, 8]\n",
      "row_2 3\n",
      "column_2 2\n",
      "multiplication is possible\n"
     ]
    }
   ],
   "source": [
    "matrix_1= [\n",
    "    [1,2,3],\n",
    "    [4,5,6],\n",
    "    [7,8,9]\n",
    "]\n",
    "row_1 = 0\n",
    "for i in matrix_1:\n",
    "    row_1 = row_1 + 1\n",
    "    column_1 = len(i)\n",
    "    print('matrix_1',i)\n",
    "print('row_1',row_1)\n",
    "print('column_1',column_1)\n",
    "\n",
    "matrix_2 = [\n",
    "    [2,3],\n",
    "    [4,5],\n",
    "    [7,8]\n",
    "]\n",
    "row_2 = 0\n",
    "for j in matrix_2:\n",
    "    row_2 = row_2 + 1\n",
    "    column_2 = len(j)\n",
    "    print('matrix_2',j)\n",
    "print('row_2',row_2)\n",
    "print('column_2',column_2)\n",
    "\n",
    "if column_1 == row_2:\n",
    "    print('multiplication is possible')\n",
    "    \n",
    "else:\n",
    "    print('not possible')"
   ]
  },
  {
   "cell_type": "markdown",
   "id": "47c577a7",
   "metadata": {},
   "source": [
    "74.Write a program to perform matrix multiplication on 2 matrices."
   ]
  },
  {
   "cell_type": "code",
   "execution_count": 5,
   "id": "75f0b79c",
   "metadata": {},
   "outputs": [
    {
     "name": "stdout",
     "output_type": "stream",
     "text": [
      "[114, 160, 60, 27]\n",
      "[74, 97, 73, 14]\n",
      "[119, 157, 112, 23]\n"
     ]
    }
   ],
   "source": [
    "# Program to multiply two matrices using nested loops\n",
    "\n",
    "# take a 3x3 matrix\n",
    "A = [[12, 7, 3],\n",
    "\t[4, 5, 6],\n",
    "\t[7, 8, 9]]\n",
    "\n",
    "# take a 3x4 matrix\n",
    "B = [[5, 8, 1, 2],\n",
    "\t[6, 7, 3, 0],\n",
    "\t[4, 5, 9, 1]]\n",
    "\t\n",
    "result = [[0, 0, 0, 0],\n",
    "\t\t[0, 0, 0, 0],\n",
    "\t\t[0, 0, 0, 0]]\n",
    "\n",
    "# iterating by row of A\n",
    "for i in range(len(A)):\n",
    "\n",
    "\t# iterating by column by B\n",
    "\tfor j in range(len(B[0])):\n",
    "\n",
    "\t\t# iterating by rows of B\n",
    "\t\tfor k in range(len(B)):\n",
    "\t\t\tresult[i][j] += A[i][k] * B[k][j]\n",
    "\n",
    "for r in result:\n",
    "\tprint(r)\n"
   ]
  },
  {
   "cell_type": "code",
   "execution_count": 6,
   "id": "cc27c35b",
   "metadata": {},
   "outputs": [
    {
     "name": "stdout",
     "output_type": "stream",
     "text": [
      "[114 160  60  27]\n",
      "[74 97 73 14]\n",
      "[119 157 112  23]\n"
     ]
    }
   ],
   "source": [
    "# Another way \n",
    "# Program to multiply two matrices (vectorized implementation)\n",
    "\n",
    "# Program to multiply two matrices (vectorized implementation)\n",
    "import numpy as np\n",
    "# take a 3x3 matrix\n",
    "A = [[12, 7, 3],\n",
    "\t[4, 5, 6],\n",
    "\t[7, 8, 9]]\n",
    "\n",
    "# take a 3x4 matrix\n",
    "B = [[5, 8, 1, 2],\n",
    "\t[6, 7, 3, 0],\n",
    "\t[4, 5, 9, 1]]\n",
    "\n",
    "# result will be 3x4\n",
    "\n",
    "result= [[0,0,0,0],\n",
    "\t\t[0,0,0,0],\n",
    "\t\t[0,0,0,0]]\n",
    "\n",
    "result = np.dot(A,B)\n",
    "\n",
    "for r in result:\n",
    "\tprint(r)\n"
   ]
  },
  {
   "cell_type": "markdown",
   "id": "4c0c874d",
   "metadata": {},
   "source": [
    "75.Write a program that can sort a given unsorted list. Dont use any built in\n",
    "function for sorting."
   ]
  },
  {
   "cell_type": "code",
   "execution_count": 7,
   "id": "65f8b27d",
   "metadata": {},
   "outputs": [
    {
     "name": "stdout",
     "output_type": "stream",
     "text": [
      "[2, 3, 4, 5, 6, 7]\n"
     ]
    }
   ],
   "source": [
    "L = [5,2,3,6,4,7]\n",
    "\n",
    "for i in range(len(L)):\n",
    "    for k in range(0,len(L)-1):\n",
    "        if L[k]>L[k+1]:\n",
    "            temp = L[k]\n",
    "            L[k]=L[k+1]\n",
    "            L[k+1]= temp\n",
    "print(L)\n",
    "            "
   ]
  },
  {
   "cell_type": "markdown",
   "id": "3b10477e",
   "metadata": {},
   "source": [
    "76.Write a program that can find the most used word in a bollywood song\n"
   ]
  },
  {
   "cell_type": "code",
   "execution_count": null,
   "id": "34f43959",
   "metadata": {},
   "outputs": [],
   "source": []
  },
  {
   "cell_type": "markdown",
   "id": "15928bd3",
   "metadata": {},
   "source": [
    "77. Assume a list with numbers from 1 to 10 and then convert it into a\n",
    "dictionary where the key would be the numbers of the list and the\n",
    "values would be the square of those numbers."
   ]
  },
  {
   "cell_type": "code",
   "execution_count": 8,
   "id": "b599683b",
   "metadata": {},
   "outputs": [
    {
     "name": "stdout",
     "output_type": "stream",
     "text": [
      "{1: 1, 2: 4, 3: 9, 4: 16, 5: 25, 6: 36, 7: 49, 8: 64, 9: 81}\n"
     ]
    }
   ],
   "source": [
    "L = [1,2,3,4,5,6,7,8,9]\n",
    "D = {}\n",
    "\n",
    "for i in L:\n",
    "    D[i] = i**2\n",
    "print(D)"
   ]
  },
  {
   "cell_type": "markdown",
   "id": "c832d1cf",
   "metadata": {},
   "source": [
    "78.Write a program to merge two given dictionary"
   ]
  },
  {
   "cell_type": "code",
   "execution_count": 9,
   "id": "ce444f89",
   "metadata": {},
   "outputs": [
    {
     "name": "stdout",
     "output_type": "stream",
     "text": [
      "{'a': 2, 'b': 3, 'c': 4, 'd': 4}\n"
     ]
    }
   ],
   "source": [
    "D1 = {'a':2,'b':3}\n",
    "D2 = {'c':4,'d':4}\n",
    "D = {}\n",
    "\n",
    "for i in D1:\n",
    "    D[i]=D1[i]\n",
    "for k in D2:\n",
    "    D[k]=D2[k]\n",
    "print(D)"
   ]
  },
  {
   "cell_type": "markdown",
   "id": "7c97e2b6",
   "metadata": {},
   "source": [
    "79.Write a program to swap the key value pair for max and min values\n",
    "Eg if the dict is like this {‘a’:1,’b’:2,’c’:3}\n",
    "Output should be {a:3,b:2,c:1}"
   ]
  },
  {
   "cell_type": "code",
   "execution_count": 10,
   "id": "86605855",
   "metadata": {},
   "outputs": [
    {
     "name": "stdout",
     "output_type": "stream",
     "text": [
      "400\n",
      "100\n",
      "{'a': 400, 'b': 200, 'c': 300, 'd': 100}\n"
     ]
    }
   ],
   "source": [
    "D = {'a':100, 'b':200,'c':300,'d':400}\n",
    "max_val = max(D.values())\n",
    "min_val = min(D.values())\n",
    "\n",
    "for i in D:\n",
    "    if D[i]==max_val:\n",
    "        print(D[i])\n",
    "        break\n",
    "        \n",
    "for j in D:\n",
    "    if D[j]==min_val:\n",
    "        print(D[j])\n",
    "        break\n",
    "    \n",
    "D[i]=min_val\n",
    "D[j]=max_val\n",
    "print(D)"
   ]
  },
  {
   "cell_type": "markdown",
   "id": "1096da5d",
   "metadata": {},
   "source": [
    "80.Write a program to find histogram of a given set of numbers. Take bin\n",
    "size from user. Print the result in the form of a dictionary."
   ]
  },
  {
   "cell_type": "code",
   "execution_count": null,
   "id": "a140b9df",
   "metadata": {},
   "outputs": [],
   "source": []
  },
  {
   "cell_type": "markdown",
   "id": "02937aec",
   "metadata": {},
   "source": [
    "81. Write a function that accepts a string and returns the number of upper\n",
    "case chars and lower case chars as a dictionary\n"
   ]
  },
  {
   "cell_type": "code",
   "execution_count": null,
   "id": "a08cafda",
   "metadata": {},
   "outputs": [],
   "source": []
  },
  {
   "cell_type": "markdown",
   "id": "64b67ea4",
   "metadata": {},
   "source": [
    "82. Write a function that accepts a list of strings and performs Bag of words\n",
    "    and convert it to numerical vectors."
   ]
  },
  {
   "cell_type": "code",
   "execution_count": 12,
   "id": "c1ea4da9",
   "metadata": {},
   "outputs": [
    {
     "data": {
      "text/plain": [
       "[[1, 1, 1, 2, 4, 1, 1, 1, 1, 1, 1, 1, 1, 1, 1]]"
      ]
     },
     "execution_count": 12,
     "metadata": {},
     "output_type": "execute_result"
    }
   ],
   "source": [
    "def bow(sentences):\n",
    "    vocab = []\n",
    "    for i in sentences:\n",
    "        vocab.extend(i.split())\n",
    "        \n",
    "    vocab = list(set(vocab))\n",
    "    \n",
    "    vector2d = []\n",
    "    for sentence in sentences:\n",
    "        vector = []\n",
    "        \n",
    "        for word in vocab:\n",
    "            vector.append(sentence.count(word))\n",
    "        vector2d.append(vector)\n",
    "    return vector2d\n",
    "\n",
    "sentences = [\n",
    "    'Hello how are you'\n",
    "    'I was waiting for your calls'\n",
    "    'where do you work'\n",
    "    'Lets meet someday'\n",
    "    'Hope you are fine'\n",
    "]\n",
    "bow(sentences)"
   ]
  },
  {
   "cell_type": "markdown",
   "id": "1f81e256",
   "metadata": {},
   "source": [
    "83.Write a dummy program that can perform login and registration using\n",
    "a menu driven program\n"
   ]
  },
  {
   "cell_type": "code",
   "execution_count": null,
   "id": "5b1671a3",
   "metadata": {},
   "outputs": [],
   "source": []
  }
 ],
 "metadata": {
  "kernelspec": {
   "display_name": "Python 3",
   "language": "python",
   "name": "python3"
  },
  "language_info": {
   "codemirror_mode": {
    "name": "ipython",
    "version": 3
   },
   "file_extension": ".py",
   "mimetype": "text/x-python",
   "name": "python",
   "nbconvert_exporter": "python",
   "pygments_lexer": "ipython3",
   "version": "3.8.8"
  }
 },
 "nbformat": 4,
 "nbformat_minor": 5
}
